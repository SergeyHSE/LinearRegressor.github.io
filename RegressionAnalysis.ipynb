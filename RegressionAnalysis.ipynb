{
  "nbformat": 4,
  "nbformat_minor": 0,
  "metadata": {
    "colab": {
      "provenance": [],
      "authorship_tag": "ABX9TyOy07Jc76hnOZ2PbHphVd8w",
      "include_colab_link": true
    },
    "kernelspec": {
      "name": "python3",
      "display_name": "Python 3"
    },
    "language_info": {
      "name": "python"
    }
  },
  "cells": [
    {
      "cell_type": "markdown",
      "metadata": {
        "id": "view-in-github",
        "colab_type": "text"
      },
      "source": [
        "<a href=\"https://colab.research.google.com/github/SergeyHSE/LinearRegressor.github.io/blob/main/RegressionAnalysis.ipynb\" target=\"_parent\"><img src=\"https://colab.research.google.com/assets/colab-badge.svg\" alt=\"Open In Colab\"/></a>"
      ]
    },
    {
      "cell_type": "code",
      "execution_count": 2,
      "metadata": {
        "id": "BkUKrYSP_Da_"
      },
      "outputs": [],
      "source": [
        "import pandas as pd\n",
        "import numpy as np\n",
        "import matplotlib.pyplot as plt\n",
        "import seaborn as sns\n",
        "import statsmodels.api as sm\n",
        "import statsmodels.formula.api as smf\n",
        "import statsmodels.stats.diagnostic as dg\n",
        "import scipy.stats\n",
        "from scipy.stats import boxcox\n"
      ]
    },
    {
      "cell_type": "markdown",
      "source": [
        "When studying the literature on this topic, the most interesting articles were \"Economic efficiency of beef cattle production in Thailand\" by Professor Suneeporn Suwanmaneepong of King Mongkut's Institute of Technology Ladkrabang Faculty of Agricultural Technology PhD and \"Assessment of technical efficiency and its determinants in beef cattle production in Kenya\" by Eric Ruto of Lincoln University. In this paper, the professor describes the economic efficiency of beef cattle production. To build the model she uses the following variables as the most efficient ones: cost of feed and additives, equipment, drugs and labor, access to priority markets, etc. Unfortunately, our data do not contain information on the costs of purchasing veterinary drugs, so we will not be able to analyze their impact on the profitability of the enterprise. Therefore, we will do something else: we will deduct from the cost price all the cost items that we have. This will give us the amount including the costs of veterinary drugs.\n",
        "\n",
        "Moreover, both authors conclude in the conclusions of their studies that there is a need for government intervention with different types of assistance such as:\n",
        "- Improving farmers' access to the knowledge they need to develop their farms as well as their farming skills\n",
        "- Providing access to more modern technologies\n",
        "- Improving access to market services\n",
        "- Creating opportunities for off-farm income generation.\n",
        "\n",
        "All these factors are in one way or another related to government support, to a certain type of subsidy, which directly, according to the authors, should improve profit margins, and therefore improve the model's performance.\n"
      ],
      "metadata": {
        "id": "iEYb-qLBBL4Q"
      }
    },
    {
      "cell_type": "code",
      "source": [],
      "metadata": {
        "id": "dFnkSk9zGyq6"
      },
      "execution_count": null,
      "outputs": []
    }
  ]
}